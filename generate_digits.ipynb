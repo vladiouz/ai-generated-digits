{
  "nbformat": 4,
  "nbformat_minor": 0,
  "metadata": {
    "colab": {
      "provenance": [],
      "gpuType": "T4",
      "authorship_tag": "ABX9TyMzUzBA8PBHGbNvBxZEa68O",
      "include_colab_link": true
    },
    "kernelspec": {
      "name": "python3",
      "display_name": "Python 3"
    },
    "language_info": {
      "name": "python"
    },
    "accelerator": "GPU"
  },
  "cells": [
    {
      "cell_type": "markdown",
      "metadata": {
        "id": "view-in-github",
        "colab_type": "text"
      },
      "source": [
        "<a href=\"https://colab.research.google.com/github/vladiouz/ai-generated-digits/blob/main/generate_digits.ipynb\" target=\"_parent\"><img src=\"https://colab.research.google.com/assets/colab-badge.svg\" alt=\"Open In Colab\"/></a>"
      ]
    },
    {
      "cell_type": "code",
      "execution_count": 1,
      "metadata": {
        "id": "usGbwGr2kgF3"
      },
      "outputs": [],
      "source": [
        "import torch, pdb\n",
        "from torch.utils.data import DataLoader\n",
        "from torch import nn\n",
        "from torchvision import transforms\n",
        "from torchvision.datasets import MNIST\n",
        "from torchvision.utils import make_grid\n",
        "from tqdm.auto import tqdm\n",
        "import matplotlib.pyplot as plt"
      ]
    },
    {
      "cell_type": "code",
      "source": [
        "def visualize_grid(tensor, number_of_channels=1, size=(28,28), number_of_images=16):\n",
        "  data = tensor.detach().cpu().view(-1, number_of_channels, *size)\n",
        "  grid = make_grid(data[:number_of_images], nrow=4).permute(1,2,0)\n",
        "  plt.imshow(grid)\n",
        "  plt.show()"
      ],
      "metadata": {
        "id": "_GxHMy0jzTho"
      },
      "execution_count": 2,
      "outputs": []
    },
    {
      "cell_type": "code",
      "source": [
        "epochs = 500\n",
        "current_step = 0\n",
        "info_step = 300\n",
        "mean_generator_loss = 0\n",
        "mean_discriminator_loss = 0\n",
        "\n",
        "z_dimension = 64\n",
        "learning_rate = 0.00001\n",
        "loss_function = nn.BCEWithLogitsLoss()\n",
        "\n",
        "\n",
        "# how many images are we going to process at once\n",
        "batch_size = 128\n",
        "\n",
        "device = 'cuda'\n",
        "dataloader = DataLoader(MNIST('.', download=True, transform=transforms.ToTensor()), shuffle=True, batch_size=batch_size)\n"
      ],
      "metadata": {
        "colab": {
          "base_uri": "https://localhost:8080/"
        },
        "id": "FkVwtxN91dLO",
        "outputId": "4078a65c-fa3e-4722-c81e-e8bbf5697b8e"
      },
      "execution_count": 3,
      "outputs": [
        {
          "output_type": "stream",
          "name": "stdout",
          "text": [
            "Downloading http://yann.lecun.com/exdb/mnist/train-images-idx3-ubyte.gz\n",
            "Downloading http://yann.lecun.com/exdb/mnist/train-images-idx3-ubyte.gz to ./MNIST/raw/train-images-idx3-ubyte.gz\n"
          ]
        },
        {
          "output_type": "stream",
          "name": "stderr",
          "text": [
            "100%|██████████| 9912422/9912422 [00:00<00:00, 157123085.81it/s]"
          ]
        },
        {
          "output_type": "stream",
          "name": "stdout",
          "text": [
            "Extracting ./MNIST/raw/train-images-idx3-ubyte.gz to ./MNIST/raw\n"
          ]
        },
        {
          "output_type": "stream",
          "name": "stderr",
          "text": [
            "\n"
          ]
        },
        {
          "output_type": "stream",
          "name": "stdout",
          "text": [
            "\n",
            "Downloading http://yann.lecun.com/exdb/mnist/train-labels-idx1-ubyte.gz\n",
            "Downloading http://yann.lecun.com/exdb/mnist/train-labels-idx1-ubyte.gz to ./MNIST/raw/train-labels-idx1-ubyte.gz\n"
          ]
        },
        {
          "output_type": "stream",
          "name": "stderr",
          "text": [
            "100%|██████████| 28881/28881 [00:00<00:00, 119817699.13it/s]\n"
          ]
        },
        {
          "output_type": "stream",
          "name": "stdout",
          "text": [
            "Extracting ./MNIST/raw/train-labels-idx1-ubyte.gz to ./MNIST/raw\n",
            "\n",
            "Downloading http://yann.lecun.com/exdb/mnist/t10k-images-idx3-ubyte.gz\n",
            "Downloading http://yann.lecun.com/exdb/mnist/t10k-images-idx3-ubyte.gz to ./MNIST/raw/t10k-images-idx3-ubyte.gz\n"
          ]
        },
        {
          "output_type": "stream",
          "name": "stderr",
          "text": [
            "100%|██████████| 1648877/1648877 [00:00<00:00, 55154607.56it/s]"
          ]
        },
        {
          "output_type": "stream",
          "name": "stdout",
          "text": [
            "Extracting ./MNIST/raw/t10k-images-idx3-ubyte.gz to ./MNIST/raw\n"
          ]
        },
        {
          "output_type": "stream",
          "name": "stderr",
          "text": [
            "\n"
          ]
        },
        {
          "output_type": "stream",
          "name": "stdout",
          "text": [
            "\n",
            "Downloading http://yann.lecun.com/exdb/mnist/t10k-labels-idx1-ubyte.gz\n",
            "Downloading http://yann.lecun.com/exdb/mnist/t10k-labels-idx1-ubyte.gz to ./MNIST/raw/t10k-labels-idx1-ubyte.gz\n"
          ]
        },
        {
          "output_type": "stream",
          "name": "stderr",
          "text": [
            "100%|██████████| 4542/4542 [00:00<00:00, 20639792.81it/s]\n"
          ]
        },
        {
          "output_type": "stream",
          "name": "stdout",
          "text": [
            "Extracting ./MNIST/raw/t10k-labels-idx1-ubyte.gz to ./MNIST/raw\n",
            "\n"
          ]
        }
      ]
    },
    {
      "cell_type": "code",
      "source": [
        "from torch.nn.modules.activation import ReLU\n",
        "\n",
        "# Generator\n",
        "\n",
        "def generator_block(input, output):\n",
        "  return nn.Sequential(\n",
        "      nn.Linear(input, output),\n",
        "      nn.BatchNorm1d(output),\n",
        "      nn.ReLU(inplace=True)\n",
        "  )\n",
        "\n",
        "class Generator(nn.Module):\n",
        "  def __init__(self, z_dimension=64, i_dimension=784, h_dimension=128):\n",
        "    super().__init__()\n",
        "    self.gen = nn.Sequential(\n",
        "        generator_block(z_dimension, h_dimension),\n",
        "        generator_block(h_dimension, h_dimension * 2),\n",
        "        generator_block(h_dimension * 2, h_dimension * 4),\n",
        "        generator_block(h_dimension * 4, h_dimension * 8),\n",
        "        nn.Linear(h_dimension * 8, i_dimension),\n",
        "        nn.Sigmoid()\n",
        "    )\n",
        "\n",
        "  def forward(self, noise):\n",
        "    return self.gen(noise)\n",
        "\n",
        "def generate_noise(number_of_noise_vectors, z_dimension):\n",
        "  return torch.randn(number_of_noise_vectors, z_dimension).to(device)\n",
        "\n",
        "# Discriminator\n",
        "\n",
        "def discriminator_block(input, output):\n",
        "  return nn.Sequential(\n",
        "      nn.Linear(input, output),\n",
        "      nn.LeakyReLU(0.2)\n",
        "  )\n",
        "\n",
        "class Discriminator(nn.Module):\n",
        "  def __init__(self, i_dimension=784, h_dimension=256):\n",
        "    super().__init__()\n",
        "    self.disc = nn.Sequential(\n",
        "      discriminator_block(i_dimension, h_dimension * 4),\n",
        "      discriminator_block(h_dimension * 4, h_dimension * 2),\n",
        "      discriminator_block(h_dimension * 2, h_dimension),\n",
        "      nn.Linear(h_dimension, 1)\n",
        "    )\n",
        "\n",
        "  def forward(self, image):\n",
        "    return self.disc(image)\n",
        "\n"
      ],
      "metadata": {
        "id": "PS25_x7lUXwd"
      },
      "execution_count": 4,
      "outputs": []
    },
    {
      "cell_type": "code",
      "source": [
        "generator = Generator(z_dimension).to(device)\n",
        "generator_optimizer = torch.optim.Adam(generator.parameters(), lr=learning_rate)\n",
        "\n",
        "discriminator = Discriminator().to(device)\n",
        "discriminator_optimizer = torch.optim.Adam(discriminator.parameters(), lr=learning_rate)"
      ],
      "metadata": {
        "id": "dMso1c_zzRY4"
      },
      "execution_count": 5,
      "outputs": []
    },
    {
      "cell_type": "code",
      "source": [
        "generator"
      ],
      "metadata": {
        "colab": {
          "base_uri": "https://localhost:8080/"
        },
        "id": "LOHPcN8A8A4A",
        "outputId": "6308cbcb-db47-432c-e7cb-2c2c382d3ad9"
      },
      "execution_count": 6,
      "outputs": [
        {
          "output_type": "execute_result",
          "data": {
            "text/plain": [
              "Generator(\n",
              "  (gen): Sequential(\n",
              "    (0): Sequential(\n",
              "      (0): Linear(in_features=64, out_features=128, bias=True)\n",
              "      (1): BatchNorm1d(128, eps=1e-05, momentum=0.1, affine=True, track_running_stats=True)\n",
              "      (2): ReLU(inplace=True)\n",
              "    )\n",
              "    (1): Sequential(\n",
              "      (0): Linear(in_features=128, out_features=256, bias=True)\n",
              "      (1): BatchNorm1d(256, eps=1e-05, momentum=0.1, affine=True, track_running_stats=True)\n",
              "      (2): ReLU(inplace=True)\n",
              "    )\n",
              "    (2): Sequential(\n",
              "      (0): Linear(in_features=256, out_features=512, bias=True)\n",
              "      (1): BatchNorm1d(512, eps=1e-05, momentum=0.1, affine=True, track_running_stats=True)\n",
              "      (2): ReLU(inplace=True)\n",
              "    )\n",
              "    (3): Sequential(\n",
              "      (0): Linear(in_features=512, out_features=1024, bias=True)\n",
              "      (1): BatchNorm1d(1024, eps=1e-05, momentum=0.1, affine=True, track_running_stats=True)\n",
              "      (2): ReLU(inplace=True)\n",
              "    )\n",
              "    (4): Linear(in_features=1024, out_features=784, bias=True)\n",
              "    (5): Sigmoid()\n",
              "  )\n",
              ")"
            ]
          },
          "metadata": {},
          "execution_count": 6
        }
      ]
    },
    {
      "cell_type": "code",
      "source": [
        "x, y = next(iter(dataloader))\n",
        "print(x.shape, y.shape)\n",
        "print(y[:10])\n",
        "\n",
        "noise = generate_noise(batch_size, z_dimension)\n",
        "fake_image = generator(noise)\n",
        "visualize_grid(fake_image)"
      ],
      "metadata": {
        "colab": {
          "base_uri": "https://localhost:8080/",
          "height": 469
        },
        "id": "lqYe-xHJAHIX",
        "outputId": "f320ec9d-fd0a-448d-9191-527d71f41161"
      },
      "execution_count": 7,
      "outputs": [
        {
          "output_type": "stream",
          "name": "stdout",
          "text": [
            "torch.Size([128, 1, 28, 28]) torch.Size([128])\n",
            "tensor([4, 1, 4, 3, 0, 1, 1, 0, 7, 7])\n"
          ]
        },
        {
          "output_type": "display_data",
          "data": {
            "text/plain": [
              "<Figure size 640x480 with 1 Axes>"
            ],
            "image/png": "[encoded data removed]"
          },
          "metadata": {}
        }
      ]
    },
    {
      "cell_type": "code",
      "source": [
        "def calculate_generator_loss(loss_function, generator, discriminator, batch_size, z_dimension):\n",
        "  noise = generate_noise(batch_size, z_dimension)\n",
        "  fake_image = generator(noise)\n",
        "  prediction = discriminator(fake_image)\n",
        "  target = torch.ones_like(prediction)\n",
        "  generator_loss = loss_function(prediction, target)\n",
        "  return generator_loss\n",
        "\n",
        "def calculate_discriminator_loss(loss_function, generator, discriminator, batch_size, real_img, z_dimension):\n",
        "  noise = generate_noise(batch_size, z_dimension)\n",
        "  fake_image = generator(noise)\n",
        "  discriminator_fake = discriminator(fake_image.detach())\n",
        "  discriminator_fake_targets = torch.zeros_like(discriminator_fake)\n",
        "  discriminator_fake_loss = loss_function(discriminator_fake, discriminator_fake_targets)\n",
        "\n",
        "  discriminator_real = discriminator(real_img)\n",
        "  discriminator_real_targets = torch.ones_like(discriminator_real)\n",
        "  discriminator_real_loss = loss_function(discriminator_real, discriminator_real_targets)\n",
        "\n",
        "  discriminator_loss = (discriminator_real_loss + discriminator_fake_loss) / 2\n",
        "  return discriminator_loss"
      ],
      "metadata": {
        "id": "jQXuMDVyCDxp"
      },
      "execution_count": 8,
      "outputs": []
    },
    {
      "cell_type": "code",
      "source": [
        "for epoch in range(epochs):\n",
        "  for real_img, _ in tqdm(dataloader):\n",
        "    ### discriminator\n",
        "    discriminator_optimizer.zero_grad()\n",
        "\n",
        "    current_batch_size = len(real_img)\n",
        "    real_img = real_img.view(current_batch_size, -1)\n",
        "    real_img = real_img.to(device)\n",
        "\n",
        "    discriminator_loss = calculate_discriminator_loss(loss_function, generator, discriminator, current_batch_size, real_img, z_dimension)\n",
        "    discriminator_loss.backward(retain_graph=True)\n",
        "    discriminator_optimizer.step()\n",
        "\n",
        "    ### generator\n",
        "    generator_optimizer.zero_grad()\n",
        "\n",
        "    generator_loss = calculate_generator_loss(loss_function, generator, discriminator, current_batch_size, z_dimension)\n",
        "    generator_loss.backward(retain_graph=True)\n",
        "    generator_optimizer.step()\n",
        "\n",
        "    ### visualization\n",
        "    mean_discriminator_loss += discriminator_loss.item()/info_step\n",
        "    mean_generator_loss += generator_loss.item()/info_step\n",
        "\n",
        "    if current_step % info_step == 0 and current_step > 0:\n",
        "      fake_noise = generate_noise(current_batch_size, z_dimension)\n",
        "      fake_img = generator(fake_noise)\n",
        "      visualize_grid(fake_img)\n",
        "      visualize_grid(real_img)\n",
        "      print(f\"{epoch} / Gen loss: {mean_generator_loss} / Disc loss: {mean_discriminator_loss}\")\n",
        "      mean_generator_loss = 0\n",
        "      mean_discriminator_loss = 0\n",
        "    current_step += 1\n"
      ],
      "metadata": {
        "id": "D6NoPojnk4B5"
      },
      "execution_count": null,
      "outputs": []
    }
  ]
}